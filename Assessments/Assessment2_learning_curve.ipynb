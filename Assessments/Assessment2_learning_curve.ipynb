{
 "cells": [
  {
   "cell_type": "code",
   "execution_count": null,
   "metadata": {},
   "outputs": [],
   "source": [
    "from sklearn.linear_model import LinearRegression\n",
    "import matplotlib.pyplot as plt\n",
    "import numpy as np\n",
    "%matplotlib inline\n",
    "from sklearn.preprocessing import PolynomialFeatures"
   ]
  },
  {
   "cell_type": "code",
   "execution_count": null,
   "metadata": {},
   "outputs": [],
   "source": [
    "x= np.random.rand(200,1) * 10\n"
   ]
  },
  {
   "cell_type": "code",
   "execution_count": null,
   "metadata": {},
   "outputs": [],
   "source": [
    "w0=np.random.rand(1) * 10\n",
    "w1=np.random.rand(1) * 10\n",
    "w2=np.random.rand(1) * 10\n",
    "w3=np.random.rand(1) * 10\n",
    "w4=np.random.rand(1) * 10"
   ]
  },
  {
   "cell_type": "code",
   "execution_count": null,
   "metadata": {},
   "outputs": [],
   "source": [
    "y=w0+w1*x+w2*(x**2)+w3*(x**3)+w4*(x**4)\n",
    "y = y + np.random.normal(scale=3, size=y.shape)"
   ]
  },
  {
   "cell_type": "code",
   "execution_count": null,
   "metadata": {},
   "outputs": [],
   "source": [
    "x = x.reshape(-1, 1)\n",
    "y = y.reshape(-1, 1)"
   ]
  },
  {
   "cell_type": "code",
   "execution_count": null,
   "metadata": {},
   "outputs": [],
   "source": [
    "poli = PolynomialFeatures(degree=16)\n",
    "x = poli.fit_transform(x)\n",
    "split = int(x.shape[0] * 0.8)\n",
    "y_train = y[:split]\n",
    "y_test = y[split:]"
   ]
  },
  {
   "cell_type": "code",
   "execution_count": null,
   "metadata": {},
   "outputs": [],
   "source": [
    "MSE_train = []\n",
    "MSE_test = []\n",
    "x_line = np.arange(0,10,1).reshape(-1,1)\n",
    "lr_model = LinearRegression(normalize=True)"
   ]
  },
  {
   "cell_type": "code",
   "execution_count": null,
   "metadata": {},
   "outputs": [],
   "source": [
    "for i in [1,2,4,8,16]:\n",
    "    \n",
    "    X_train = x[:split,1:i+1]\n",
    "    X_test = x[split:,1:i+1]\n",
    "    \n",
    "    lr_model.fit(X_train, y_train)\n",
    "    h_train = lr_model.predict(X_train)\n",
    "    h_test = lr_model.predict(X_test)\n",
    "    MSE_train.append(np.mean((y_train - h_train) ** 2) / 2)\n",
    "    MSE_test.append(np.mean((y_test - h_test) ** 2) / 2)\n",
    "    x_line2 = poli.fit_transform(x_line)\n",
    "    y_line = lr_model.predict(x_line2[:,1:i+1])\n",
    "    plt.plot(x_line, y_line)\n",
    "Legend = ['degree=1','degree=2','degree=4','degree=8','degree=16']\n",
    "plt.legend(Legend)\n",
    "plt.plot(x[0:split,1],y_train,'b.')\n",
    "plt.plot(x[split:,1],y_test,'c*')\n",
    "plt.xlabel('X')\n",
    "plt.ylabel('y')\n",
    "plt.show()"
   ]
  },
  {
   "cell_type": "code",
   "execution_count": null,
   "metadata": {},
   "outputs": [],
   "source": [
    "plt.plot([1,2,4,8,16],MSE_train,'b^')\n",
    "plt.plot([1,2,4,8,16],MSE_test,'rv')\n",
    "plt.legend([\"Training Score\", \"Testing Score\"])\n",
    "plt.xlabel('PolynomialFeatures degree')\n",
    "plt.ylabel('MSE Score')"
   ]
  },
  {
   "cell_type": "code",
   "execution_count": null,
   "metadata": {},
   "outputs": [],
   "source": [
    "from sklearn.model_selection import  learning_curve\n",
    "for i,i in enumerate([1,2,4,8,16]):\n",
    "    train_sizes, test_score, train_score = learning_curve(lr_model, x[0:split,1:i+1], y_train, cv=5)\n",
    "    plt.figure(i)\n",
    "    plt.plot(train_sizes, test_score.mean(axis=1), label = 'Validation')\n",
    "    plt.plot(train_sizes, train_score.mean(axis=1), label = 'Train')\n",
    "    plt.title('Degree of '+str(i))\n",
    "    plt.legend()\n",
    "    plt.xlabel('Training set size')\n",
    "    plt.ylabel('Score')"
   ]
  },
  {
   "cell_type": "code",
   "execution_count": null,
   "metadata": {},
   "outputs": [],
   "source": []
  }
 ],
 "metadata": {
  "kernelspec": {
   "display_name": "Python 3",
   "language": "python",
   "name": "python3"
  },
  "language_info": {
   "codemirror_mode": {
    "name": "ipython",
    "version": 3
   },
   "file_extension": ".py",
   "mimetype": "text/x-python",
   "name": "python",
   "nbconvert_exporter": "python",
   "pygments_lexer": "ipython3",
   "version": "3.8.3"
  }
 },
 "nbformat": 4,
 "nbformat_minor": 4
}

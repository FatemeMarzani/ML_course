{
 "cells": [
  {
   "cell_type": "code",
   "execution_count": 2,
   "metadata": {},
   "outputs": [],
   "source": [
    "import numpy as np\n",
    "from sklearn.linear_model import LinearRegression\n",
    "import matplotlib.pyplot as plt\n",
    "%matplotlib inline\n"
   ]
  },
  {
   "cell_type": "code",
   "execution_count": 3,
   "metadata": {},
   "outputs": [],
   "source": [
    "x_5 = np.random.rand(5) * 10\n",
    "x_25 = np.random.rand(25) * 10\n",
    "x_100 = np.random.rand(100) * 10\n",
    "x_1000 = np.random.rand(1000) * 10\n",
    "\n",
    "x_5 =x_5.reshape(-1, 1)\n",
    "x_25 =x_25.reshape(-1, 1)\n",
    "x_100 =x_100.reshape(-1, 1)\n",
    "x_1000 =x_1000.reshape(-1, 1)"
   ]
  },
  {
   "cell_type": "markdown",
   "metadata": {},
   "source": [
    "# linear regression for 5 random input and Polynomial power 1\n"
   ]
  },
  {
   "cell_type": "code",
   "execution_count": 5,
   "metadata": {},
   "outputs": [
    {
     "name": "stdout",
     "output_type": "stream",
     "text": [
      "[[4.11260772]]\n"
     ]
    },
    {
     "data": {
      "text/plain": [
       "[<matplotlib.lines.Line2D at 0x229a2f37340>]"
      ]
     },
     "execution_count": 5,
     "metadata": {},
     "output_type": "execute_result"
    },
    {
     "data": {
      "image/png": "[encoded data removed]",
      "text/plain": [
       "<Figure size 432x288 with 1 Axes>"
      ]
     },
     "metadata": {
      "needs_background": "light"
     },
     "output_type": "display_data"
    }
   ],
   "source": [
    "w=np.random.rand(1) * 5\n",
    "b=np.random.rand(1) * 10\n",
    "y=(w*x_5)+b\n",
    "y = y + np.random.normal(scale=3, size=y.shape)\n",
    "plt.plot(x_5, y, 'bo', scalex=True, scaley=True)\n",
    "x_line =x_5\n",
    "y = y.reshape(-1, 1)\n",
    "lr_model = LinearRegression(normalize=True)\n",
    "lr_model.fit(x_5, y)\n",
    "print(lr_model.coef_)\n",
    "y_line = lr_model.predict(x_line)\n",
    "plt.plot(x_line, y_line, 'r-', scalex=True, scaley=True)\n"
   ]
  },
  {
   "cell_type": "markdown",
   "metadata": {},
   "source": [
    "# linear regression for 5 random input and Polynomial power 1 and 4"
   ]
  },
  {
   "cell_type": "code",
   "execution_count": 6,
   "metadata": {},
   "outputs": [
    {
     "name": "stdout",
     "output_type": "stream",
     "text": [
      "[[3.49858473e+00 5.03285573e-04]]\n"
     ]
    },
    {
     "data": {
      "text/plain": [
       "[<matplotlib.lines.Line2D at 0x229a2f95880>,\n",
       " <matplotlib.lines.Line2D at 0x229a2f958b0>]"
      ]
     },
     "execution_count": 6,
     "metadata": {},
     "output_type": "execute_result"
    },
    {
     "data": {
      "image/png": "[encoded data removed]",
      "text/plain": [
       "<Figure size 432x288 with 1 Axes>"
      ]
     },
     "metadata": {
      "needs_background": "light"
     },
     "output_type": "display_data"
    }
   ],
   "source": [
    "x_5_4=np.hstack((x_5,x_5**4))\n",
    "\n",
    "lr_model.fit(x_5_4, y)\n",
    "print(lr_model.coef_)\n",
    "x_line = np.arange(0, 1000, 0.1).reshape(-1, 1)\n",
    "x_line = np.hstack((x_line, x_line ** 4))\n",
    "y_line = lr_model.predict(x_line)\n",
    "plt.plot(x_line[:, 0], y_line, 'r--')\n",
    "plt.plot(x_5_4, y, 'bo')\n"
   ]
  },
  {
   "cell_type": "markdown",
   "metadata": {},
   "source": [
    "\n",
    "# linear regression for 5 random input and Polynomial power 1 and 4 and 16"
   ]
  },
  {
   "cell_type": "code",
   "execution_count": 7,
   "metadata": {},
   "outputs": [
    {
     "name": "stdout",
     "output_type": "stream",
     "text": [
      "[[ 7.52021217e+00 -3.83999733e-02  4.17096329e-14]]\n"
     ]
    },
    {
     "data": {
      "text/plain": [
       "[<matplotlib.lines.Line2D at 0x229a3fc06a0>,\n",
       " <matplotlib.lines.Line2D at 0x229a3fc06d0>,\n",
       " <matplotlib.lines.Line2D at 0x229a3fc0760>]"
      ]
     },
     "execution_count": 7,
     "metadata": {},
     "output_type": "execute_result"
    },
    {
     "data": {
      "image/png": "[encoded data removed]",
      "text/plain": [
       "<Figure size 432x288 with 1 Axes>"
      ]
     },
     "metadata": {
      "needs_background": "light"
     },
     "output_type": "display_data"
    }
   ],
   "source": [
    "x_5_4_16=np.hstack((x_5,x_5**4,x_5**16))\n",
    "lr_model.fit(x_5_4_16, y)\n",
    "print(lr_model.coef_)\n",
    "\n",
    "x_line = np.arange(0, 1000, 0.1).reshape(-1, 1)\n",
    "x_line = np.hstack((x_line, x_line ** 4,x_line ** 16))\n",
    "y_line = lr_model.predict(x_line)\n",
    "plt.plot(x_line[:, 0], y_line, 'r--')\n",
    "plt.plot(x_5_4_16, y, 'bo')"
   ]
  },
  {
   "cell_type": "markdown",
   "metadata": {},
   "source": [
    "# linear regression for 25 random input and Polynomial power 1"
   ]
  },
  {
   "cell_type": "code",
   "execution_count": 8,
   "metadata": {},
   "outputs": [
    {
     "name": "stdout",
     "output_type": "stream",
     "text": [
      "[[3.24743259]]\n"
     ]
    },
    {
     "data": {
      "text/plain": [
       "[<matplotlib.lines.Line2D at 0x229a2fb95b0>]"
      ]
     },
     "execution_count": 8,
     "metadata": {},
     "output_type": "execute_result"
    },
    {
     "data": {
      "image/png": "[encoded data removed]",
      "text/plain": [
       "<Figure size 432x288 with 1 Axes>"
      ]
     },
     "metadata": {
      "needs_background": "light"
     },
     "output_type": "display_data"
    }
   ],
   "source": [
    "\n",
    "y=(w*x_25)+b\n",
    "y = y + np.random.normal(scale=3, size=y.shape)\n",
    "plt.plot(x_25, y, 'bo', scalex=True, scaley=True)\n",
    "x_line =x_25\n",
    "y = y.reshape(-1, 1)\n",
    "lr_model = LinearRegression(normalize=True)\n",
    "lr_model.fit(x_25, y)\n",
    "print(lr_model.coef_)\n",
    "y_line = lr_model.predict(x_line)\n",
    "plt.plot(x_line, y_line, 'r-', scalex=True, scaley=True)"
   ]
  },
  {
   "cell_type": "markdown",
   "metadata": {},
   "source": [
    "# linear regression for 25 random input and Polynomial power 1 and 4"
   ]
  },
  {
   "cell_type": "code",
   "execution_count": 9,
   "metadata": {},
   "outputs": [
    {
     "name": "stdout",
     "output_type": "stream",
     "text": [
      "[[2.96745010e+00 3.33453058e-04]]\n"
     ]
    },
    {
     "data": {
      "text/plain": [
       "[<matplotlib.lines.Line2D at 0x229a4075430>,\n",
       " <matplotlib.lines.Line2D at 0x229a4075460>]"
      ]
     },
     "execution_count": 9,
     "metadata": {},
     "output_type": "execute_result"
    },
    {
     "data": {
      "image/png": "[encoded data removed]",
      "text/plain": [
       "<Figure size 432x288 with 1 Axes>"
      ]
     },
     "metadata": {
      "needs_background": "light"
     },
     "output_type": "display_data"
    }
   ],
   "source": [
    "x_25_4=np.hstack((x_25,x_25**4))\n",
    "\n",
    "lr_model.fit(x_25_4, y)\n",
    "print(lr_model.coef_)\n",
    "x_line = np.arange(0, 1000, 0.1).reshape(-1, 1)\n",
    "x_line = np.hstack((x_line, x_line ** 4))\n",
    "y_line = lr_model.predict(x_line)\n",
    "plt.plot(x_line[:, 0], y_line, 'r--')\n",
    "plt.plot(x_25_4, y, 'bo')\n"
   ]
  },
  {
   "cell_type": "markdown",
   "metadata": {},
   "source": [
    "# linear regression for 25 random input and Polynomial power 1 and 4 and 16"
   ]
  },
  {
   "cell_type": "code",
   "execution_count": 10,
   "metadata": {
    "scrolled": true
   },
   "outputs": [
    {
     "name": "stdout",
     "output_type": "stream",
     "text": [
      "[[ 2.91051479e+00  4.95390160e-04 -1.99915446e-16]]\n"
     ]
    },
    {
     "data": {
      "text/plain": [
       "[<matplotlib.lines.Line2D at 0x229a40cb5b0>,\n",
       " <matplotlib.lines.Line2D at 0x229a40cb5e0>,\n",
       " <matplotlib.lines.Line2D at 0x229a40cb670>]"
      ]
     },
     "execution_count": 10,
     "metadata": {},
     "output_type": "execute_result"
    },
    {
     "data": {
      "image/png": "[encoded data removed]",
      "text/plain": [
       "<Figure size 432x288 with 1 Axes>"
      ]
     },
     "metadata": {
      "needs_background": "light"
     },
     "output_type": "display_data"
    }
   ],
   "source": [
    "x_25_4_16=np.hstack((x_25,x_25**4,x_25**16))\n",
    "lr_model.fit(x_25_4_16, y)\n",
    "print(lr_model.coef_)\n",
    "\n",
    "x_line = np.arange(0, 1000, 0.1).reshape(-1, 1)\n",
    "x_line = np.hstack((x_line, x_line ** 4,x_line ** 16))\n",
    "y_line = lr_model.predict(x_line)\n",
    "plt.plot(x_line[:, 0], y_line, 'r--')\n",
    "plt.plot(x_25_4_16, y, 'bo')"
   ]
  },
  {
   "cell_type": "markdown",
   "metadata": {},
   "source": [
    "# linear regression for 100 random input and Polynomial power 1"
   ]
  },
  {
   "cell_type": "code",
   "execution_count": 11,
   "metadata": {},
   "outputs": [
    {
     "name": "stdout",
     "output_type": "stream",
     "text": [
      "[[3.1902502]]\n"
     ]
    },
    {
     "data": {
      "text/plain": [
       "[<matplotlib.lines.Line2D at 0x229a4131940>]"
      ]
     },
     "execution_count": 11,
     "metadata": {},
     "output_type": "execute_result"
    },
    {
     "data": {
      "image/png": "[encoded data removed]",
      "text/plain": [
       "<Figure size 432x288 with 1 Axes>"
      ]
     },
     "metadata": {
      "needs_background": "light"
     },
     "output_type": "display_data"
    }
   ],
   "source": [
    "\n",
    "y=(w*x_100)+b\n",
    "y = y + np.random.normal(scale=3, size=y.shape)\n",
    "plt.plot(x_100, y, 'bo', scalex=True, scaley=True)\n",
    "x_line =x_100\n",
    "y = y.reshape(-1, 1)\n",
    "lr_model = LinearRegression(normalize=True)\n",
    "lr_model.fit(x_100, y)\n",
    "print(lr_model.coef_)\n",
    "y_line = lr_model.predict(x_line)\n",
    "plt.plot(x_line, y_line, 'r-', scalex=True, scaley=True)"
   ]
  },
  {
   "cell_type": "markdown",
   "metadata": {},
   "source": [
    "# linear regression for 100 random input and Polynomial power 1 and 4"
   ]
  },
  {
   "cell_type": "code",
   "execution_count": 13,
   "metadata": {},
   "outputs": [
    {
     "name": "stdout",
     "output_type": "stream",
     "text": [
      "[[3.02923335e+00 2.03814709e-04]]\n"
     ]
    },
    {
     "data": {
      "text/plain": [
       "[<matplotlib.lines.Line2D at 0x229a418b970>,\n",
       " <matplotlib.lines.Line2D at 0x229a418b9a0>]"
      ]
     },
     "execution_count": 13,
     "metadata": {},
     "output_type": "execute_result"
    },
    {
     "data": {
      "image/png": "[encoded data removed]",
      "text/plain": [
       "<Figure size 432x288 with 1 Axes>"
      ]
     },
     "metadata": {
      "needs_background": "light"
     },
     "output_type": "display_data"
    }
   ],
   "source": [
    "x_100_4=np.hstack((x_100,x_100**4))\n",
    "\n",
    "lr_model.fit(x_100_4, y)\n",
    "print(lr_model.coef_)\n",
    "x_line = np.arange(0, 1000, 0.1).reshape(-1, 1)\n",
    "x_line = np.hstack((x_line, x_line ** 4))\n",
    "y_line = lr_model.predict(x_line)\n",
    "plt.plot(x_line[:, 0], y_line, 'r--')\n",
    "plt.plot(x_100_4, y, 'bo')\n"
   ]
  },
  {
   "cell_type": "markdown",
   "metadata": {},
   "source": [
    "# linear regression for 100 random input and Polynomial power 1 and 4 and 16"
   ]
  },
  {
   "cell_type": "code",
   "execution_count": 14,
   "metadata": {},
   "outputs": [
    {
     "name": "stdout",
     "output_type": "stream",
     "text": [
      "[[3.04445522e+00 1.68289936e-04 4.59199371e-17]]\n"
     ]
    },
    {
     "data": {
      "text/plain": [
       "[<matplotlib.lines.Line2D at 0x229a41e9ac0>,\n",
       " <matplotlib.lines.Line2D at 0x229a41e9af0>,\n",
       " <matplotlib.lines.Line2D at 0x229a41e9b80>]"
      ]
     },
     "execution_count": 14,
     "metadata": {},
     "output_type": "execute_result"
    },
    {
     "data": {
      "image/png": "[encoded data removed]",
      "text/plain": [
       "<Figure size 432x288 with 1 Axes>"
      ]
     },
     "metadata": {
      "needs_background": "light"
     },
     "output_type": "display_data"
    }
   ],
   "source": [
    "x_100_4_16=np.hstack((x_100,x_100**4,x_100**16))\n",
    "lr_model.fit(x_100_4_16, y)\n",
    "print(lr_model.coef_)\n",
    "\n",
    "x_line = np.arange(0, 1000, 0.1).reshape(-1, 1)\n",
    "x_line = np.hstack((x_line, x_line ** 4,x_line ** 16))\n",
    "y_line = lr_model.predict(x_line)\n",
    "plt.plot(x_line[:, 0], y_line, 'r--')\n",
    "plt.plot(x_100_4_16, y, 'bo')"
   ]
  },
  {
   "cell_type": "markdown",
   "metadata": {},
   "source": [
    "# linear regression for 1000 random input and Polynomial power 1"
   ]
  },
  {
   "cell_type": "code",
   "execution_count": 15,
   "metadata": {},
   "outputs": [
    {
     "name": "stdout",
     "output_type": "stream",
     "text": [
      "[[3.36972991]]\n"
     ]
    },
    {
     "data": {
      "text/plain": [
       "[<matplotlib.lines.Line2D at 0x229a4243550>]"
      ]
     },
     "execution_count": 15,
     "metadata": {},
     "output_type": "execute_result"
    },
    {
     "data": {
      "image/png": "[encoded data removed]",
      "text/plain": [
       "<Figure size 432x288 with 1 Axes>"
      ]
     },
     "metadata": {
      "needs_background": "light"
     },
     "output_type": "display_data"
    }
   ],
   "source": [
    "y=(w*x_1000)+b\n",
    "y = y + np.random.normal(scale=3, size=y.shape)\n",
    "plt.plot(x_1000, y, 'bo', scalex=True, scaley=True)\n",
    "x_line =x_1000\n",
    "y = y.reshape(-1, 1)\n",
    "lr_model = LinearRegression(normalize=True)\n",
    "lr_model.fit(x_1000, y)\n",
    "print(lr_model.coef_)\n",
    "y_line = lr_model.predict(x_line)\n",
    "plt.plot(x_line, y_line, 'r-', scalex=True, scaley=True)"
   ]
  },
  {
   "cell_type": "markdown",
   "metadata": {},
   "source": [
    "# linear regression for 1000 random input and Polynomial power 1 and 4 "
   ]
  },
  {
   "cell_type": "code",
   "execution_count": 16,
   "metadata": {},
   "outputs": [
    {
     "name": "stdout",
     "output_type": "stream",
     "text": [
      "[[3.36845354e+00 1.57904079e-06]]\n"
     ]
    },
    {
     "data": {
      "text/plain": [
       "[<matplotlib.lines.Line2D at 0x229a4297910>,\n",
       " <matplotlib.lines.Line2D at 0x229a4297940>]"
      ]
     },
     "execution_count": 16,
     "metadata": {},
     "output_type": "execute_result"
    },
    {
     "data": {
      "image/png": "[encoded data removed]",
      "text/plain": [
       "<Figure size 432x288 with 1 Axes>"
      ]
     },
     "metadata": {
      "needs_background": "light"
     },
     "output_type": "display_data"
    }
   ],
   "source": [
    "x_1000_4=np.hstack((x_1000,x_1000**4))\n",
    "\n",
    "lr_model.fit(x_1000_4, y)\n",
    "print(lr_model.coef_)\n",
    "x_line = np.arange(0, 1000, 0.1).reshape(-1, 1)\n",
    "x_line = np.hstack((x_line, x_line ** 4))\n",
    "y_line = lr_model.predict(x_line)\n",
    "plt.plot(x_line[:, 0], y_line, 'r--')\n",
    "plt.plot(x_1000_4, y, 'bo')"
   ]
  },
  {
   "cell_type": "markdown",
   "metadata": {},
   "source": [
    "# linear regression for 1000 random input and Polynomial power 1 and 4 and 16\n"
   ]
  },
  {
   "cell_type": "code",
   "execution_count": 18,
   "metadata": {},
   "outputs": [
    {
     "name": "stdout",
     "output_type": "stream",
     "text": [
      "[[ 3.39845614e+00 -6.97668705e-05  8.29148765e-17]]\n"
     ]
    },
    {
     "data": {
      "text/plain": [
       "[<matplotlib.lines.Line2D at 0x229a433fa60>,\n",
       " <matplotlib.lines.Line2D at 0x229a433fa90>,\n",
       " <matplotlib.lines.Line2D at 0x229a433fb20>]"
      ]
     },
     "execution_count": 18,
     "metadata": {},
     "output_type": "execute_result"
    },
    {
     "data": {
      "image/png": "[encoded data removed]",
      "text/plain": [
       "<Figure size 432x288 with 1 Axes>"
      ]
     },
     "metadata": {
      "needs_background": "light"
     },
     "output_type": "display_data"
    }
   ],
   "source": [
    "x_1000_4_16=np.hstack((x_1000,x_1000**4,x_1000**16))\n",
    "lr_model.fit(x_1000_4_16, y)\n",
    "print(lr_model.coef_)\n",
    "\n",
    "x_line = np.arange(0, 1000, 0.1).reshape(-1, 1)\n",
    "x_line = np.hstack((x_line, x_line ** 4,x_line ** 16))\n",
    "y_line = lr_model.predict(x_line)\n",
    "plt.plot(x_line[:, 0], y_line, 'r--')\n",
    "plt.plot(x_1000_4_16, y, 'bo')"
   ]
  },
  {
   "cell_type": "code",
   "execution_count": null,
   "metadata": {},
   "outputs": [],
   "source": []
  }
 ],
 "metadata": {
  "kernelspec": {
   "display_name": "Python 3",
   "language": "python",
   "name": "python3"
  },
  "language_info": {
   "codemirror_mode": {
    "name": "ipython",
    "version": 3
   },
   "file_extension": ".py",
   "mimetype": "text/x-python",
   "name": "python",
   "nbconvert_exporter": "python",
   "pygments_lexer": "ipython3",
   "version": "3.8.3"
  }
 },
 "nbformat": 4,
 "nbformat_minor": 4
}

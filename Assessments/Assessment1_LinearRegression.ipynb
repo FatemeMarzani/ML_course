{
 "cells": [
  {
   "cell_type": "code",
   "execution_count": 1,
   "metadata": {},
   "outputs": [],
   "source": [
    "import numpy as np\n",
    "from sklearn.linear_model import LinearRegression\n",
    "import matplotlib.pyplot as plt\n",
    "%matplotlib inline\n",
    "from sklearn.preprocessing import PolynomialFeatures \n"
   ]
  },
  {
   "cell_type": "code",
   "execution_count": 2,
   "metadata": {},
   "outputs": [],
   "source": [
    "x_5 = np.random.rand(5) * 10\n",
    "x_25 = np.random.rand(25) * 10\n",
    "x_100 = np.random.rand(100) * 10\n",
    "x_1000 = np.random.rand(1000) * 10\n",
    "x_5 =x_5.reshape(-1, 1)\n",
    "x_25 =x_25.reshape(-1, 1)\n",
    "x_100 =x_100.reshape(-1, 1)\n",
    "x_1000 =x_1000.reshape(-1, 1)"
   ]
  },
  {
   "cell_type": "code",
   "execution_count": 11,
   "metadata": {},
   "outputs": [],
   "source": [
    "def MSE(y,h):\n",
    "    MSE = np.mean((y - h) ** 2) / 2\n",
    "    return MSE"
   ]
  },
  {
   "cell_type": "markdown",
   "metadata": {},
   "source": [
    "# linear regression for 5 random input and Polynomial power 1\n"
   ]
  },
  {
   "cell_type": "code",
   "execution_count": 24,
   "metadata": {},
   "outputs": [
    {
     "name": "stdout",
     "output_type": "stream",
     "text": [
      "[1.66519194] [0.98742666]\n",
      "[[2.38003531]] [-1.13826956]\n",
      "{5: 0.48843928921977553}\n"
     ]
    },
    {
     "data": {
      "text/plain": [
       "[<matplotlib.lines.Line2D at 0x1c6625a8fd0>]"
      ]
     },
     "execution_count": 24,
     "metadata": {},
     "output_type": "execute_result"
    },
    {
     "data": {
      "image/png": "[encoded data removed]",
      "text/plain": [
       "<Figure size 432x288 with 1 Axes>"
      ]
     },
     "metadata": {
      "needs_background": "light"
     },
     "output_type": "display_data"
    }
   ],
   "source": [
    "w=np.random.rand(1) * 10\n",
    "b=np.random.rand(1) * 10\n",
    "y=(w*x_5)+b\n",
    "print(w,b)\n",
    "y = y + np.random.normal(scale=3, size=y.shape)\n",
    "plt.plot(x_5, y, 'bo', scalex=True, scaley=True)\n",
    "x_line =x_5\n",
    "y = y.reshape(-1, 1)\n",
    "lr_model = LinearRegression(normalize=True)\n",
    "lr_model.fit(x_5, y)\n",
    "print(lr_model.coef_,lr_model.intercept_)\n",
    "y_line = lr_model.predict(x_line)\n",
    "Score_pol1={}\n",
    "Score_pol1[5]=lr_model.score(x_5,y)\n",
    "print(Score_pol1)\n",
    "plt.plot(x_line, y_line, 'r-', scalex=True, scaley=True)\n"
   ]
  },
  {
   "cell_type": "markdown",
   "metadata": {},
   "source": [
    "# linear regression for 5 random input and Polynomial power 4"
   ]
  },
  {
   "cell_type": "code",
   "execution_count": 25,
   "metadata": {
    "scrolled": true
   },
   "outputs": [
    {
     "name": "stdout",
     "output_type": "stream",
     "text": [
      "[[   0.         1542.82156424 -828.29310302  176.45996298  -13.15322554]] [-840.77433015]\n",
      "{5: 1.0}\n"
     ]
    },
    {
     "data": {
      "image/png": "[encoded data removed]",
      "text/plain": [
       "<Figure size 432x288 with 1 Axes>"
      ]
     },
     "metadata": {
      "needs_background": "light"
     },
     "output_type": "display_data"
    }
   ],
   "source": [
    "x_5_4=np.hstack((x_5**0,x_5,x_5**2,x_5**3,x_5**4))\n",
    "lr_model.fit(x_5_4, y)\n",
    "print(lr_model.coef_,lr_model.intercept_)\n",
    "x_line = np.arange(0, 100, 0.1).reshape(-1, 1)\n",
    "x_line = np.hstack((x_line**0,x_line,x_line**2,x_line**3,x_line**4))\n",
    "y_line = lr_model.predict(x_line)\n",
    "plt.plot(x_line[:, 0], y_line, 'r--')\n",
    "plt.plot(x_5, y, 'bo')\n",
    "Score_pol4={}\n",
    "Score_pol4[5]=lr_model.score(x_5_4,y)\n",
    "print(Score_pol4)\n",
    "\n"
   ]
  },
  {
   "cell_type": "markdown",
   "metadata": {},
   "source": [
    "using PolynomialFeatures:"
   ]
  },
  {
   "cell_type": "code",
   "execution_count": 21,
   "metadata": {},
   "outputs": [
    {
     "name": "stdout",
     "output_type": "stream",
     "text": [
      "[[   0.         -706.97320735  392.93334278  -85.266565      6.46879983]] [387.65196006]\n"
     ]
    },
    {
     "data": {
      "text/plain": [
       "[<matplotlib.lines.Line2D at 0x1c6628d3490>]"
      ]
     },
     "execution_count": 21,
     "metadata": {},
     "output_type": "execute_result"
    },
    {
     "data": {
      "image/png": "[encoded data removed]",
      "text/plain": [
       "<Figure size 432x288 with 1 Axes>"
      ]
     },
     "metadata": {
      "needs_background": "light"
     },
     "output_type": "display_data"
    }
   ],
   "source": [
    "pol4= PolynomialFeatures(degree = 4)\n",
    "x_5_4=pol4.fit_transform(x_5)\n",
    "lr_model.fit(x_5_4, y)\n",
    "print(lr_model.coef_,lr_model.intercept_)\n",
    "x_line = np.arange(0, 100, 0.1).reshape(-1, 1)\n",
    "x_line = pol4.fit_transform(x_line)\n",
    "y_line = lr_model.predict(x_line)\n",
    "plt.plot(x_line[:, 0], y_line, 'r--')\n",
    "plt.plot(x_5, y, 'bo')\n",
    "\n",
    "\n",
    "\n"
   ]
  },
  {
   "cell_type": "markdown",
   "metadata": {},
   "source": [
    "# # linear regression for 5 random input and Polynomial power 16"
   ]
  },
  {
   "cell_type": "code",
   "execution_count": 26,
   "metadata": {},
   "outputs": [
    {
     "name": "stdout",
     "output_type": "stream",
     "text": [
      "[[ 4.15667500e-13  1.97338542e+01 -1.00970990e+00 -5.53612185e-01\n",
      "  -1.02864528e-01 -1.14299250e-02 -6.49957013e-05  3.84762357e-04\n",
      "   1.34787885e-04  3.31270991e-05  6.73189757e-06  1.15120585e-06\n",
      "   1.51771184e-07  7.74882133e-09 -4.14398521e-09 -2.16056763e-09\n",
      "  -7.29252489e-10]] [-15.77098769]\n",
      "{5: 1.0}\n"
     ]
    },
    {
     "data": {
      "image/png": "[encoded data removed]",
      "text/plain": [
       "<Figure size 432x288 with 1 Axes>"
      ]
     },
     "metadata": {
      "needs_background": "light"
     },
     "output_type": "display_data"
    }
   ],
   "source": [
    "x_5_16=np.hstack((x_5**0,x_5,x_5**2,x_5**3,x_5**4,x_5**5,x_5**6,x_5**7,x_5**8,x_5**9,x_5**10,x_5**11,x_5**12,x_5**13,x_5**14,x_5**15,x_5**16))\n",
    "lr_model.fit(x_5_16, y)\n",
    "print(lr_model.coef_,lr_model.intercept_)\n",
    "x_line = np.arange(0, 100, 0.1).reshape(-1, 1)\n",
    "x_line = np.hstack((x_line**0,x_line,x_line**2,x_line**3,x_line**4,x_line**5,x_line**6,x_line**7,x_line**8,x_line**9,x_line**10,x_line**11,x_line**12,x_line**13,x_line**14,x_line**15,x_line**16))\n",
    "y_line = lr_model.predict(x_line)\n",
    "plt.plot(x_line[:, 0], y_line, 'r--')\n",
    "plt.plot(x_5, y, 'bo')\n",
    "Score_pol16={}\n",
    "Score_pol16[5]=lr_model.score(x_5_16,y)\n",
    "print(Score_pol16)\n"
   ]
  },
  {
   "cell_type": "markdown",
   "metadata": {},
   "source": [
    "# linear regression for 25 random input and Polynomial power 1"
   ]
  },
  {
   "cell_type": "code",
   "execution_count": 27,
   "metadata": {},
   "outputs": [
    {
     "name": "stdout",
     "output_type": "stream",
     "text": [
      "[[1.54305408]] [0.91482711]\n",
      "{5: 0.48843928921977553, 25: 0.7133697654020197}\n"
     ]
    },
    {
     "data": {
      "image/png": "[encoded data removed]",
      "text/plain": [
       "<Figure size 432x288 with 1 Axes>"
      ]
     },
     "metadata": {
      "needs_background": "light"
     },
     "output_type": "display_data"
    }
   ],
   "source": [
    "y=(w*x_25)+b\n",
    "y = y + np.random.normal(scale=3, size=y.shape)\n",
    "plt.plot(x_25, y, 'bo', scalex=True, scaley=True)\n",
    "x_line =x_25\n",
    "y = y.reshape(-1, 1)\n",
    "lr_model = LinearRegression(normalize=True)\n",
    "lr_model.fit(x_25, y)\n",
    "print(lr_model.coef_,lr_model.intercept_)\n",
    "y_line = lr_model.predict(x_line)\n",
    "plt.plot(x_line, y_line, 'r-', scalex=True, scaley=True)\n",
    "Score_pol1[25]=lr_model.score(x_25,y)\n",
    "print(Score_pol1)"
   ]
  },
  {
   "cell_type": "markdown",
   "metadata": {},
   "source": [
    "# linear regression for 25 random input and Polynomial power  4"
   ]
  },
  {
   "cell_type": "code",
   "execution_count": 28,
   "metadata": {},
   "outputs": [
    {
     "name": "stdout",
     "output_type": "stream",
     "text": [
      "[[ 0.          0.67453648 -0.3243347   0.09997592 -0.00635943]] [4.00404994]\n",
      "{5: 1.0, 25: 0.7434506771504721}\n"
     ]
    },
    {
     "data": {
      "image/png": "[encoded data removed]",
      "text/plain": [
       "<Figure size 432x288 with 1 Axes>"
      ]
     },
     "metadata": {
      "needs_background": "light"
     },
     "output_type": "display_data"
    }
   ],
   "source": [
    "pol4= PolynomialFeatures(degree = 4)\n",
    "x_25_4=pol4.fit_transform(x_25)\n",
    "lr_model.fit(x_25_4, y)\n",
    "print(lr_model.coef_,lr_model.intercept_)\n",
    "x_line = np.arange(0, 100, 0.1).reshape(-1, 1)\n",
    "x_line = pol4.fit_transform(x_line)\n",
    "y_line = lr_model.predict(x_line)\n",
    "plt.plot(x_line[:, 0], y_line, 'r--')\n",
    "plt.plot(x_25, y, 'bo')\n",
    "Score_pol4[25]=lr_model.score(x_25_4,y)\n",
    "print(Score_pol4)"
   ]
  },
  {
   "cell_type": "markdown",
   "metadata": {},
   "source": [
    "# linear regression for 25 random input and Polynomial power 16"
   ]
  },
  {
   "cell_type": "code",
   "execution_count": 29,
   "metadata": {
    "scrolled": true
   },
   "outputs": [
    {
     "name": "stdout",
     "output_type": "stream",
     "text": [
      "[[ 0.00000000e+00 -1.87209968e+07  4.11077740e+07 -4.92200796e+07\n",
      "   3.79801348e+07 -2.05178686e+07  8.13210645e+06 -2.43104291e+06\n",
      "   5.56818098e+05 -9.83918715e+04  1.34035848e+04 -1.39564152e+03\n",
      "   1.09061034e+02 -6.19097034e+00  2.41017906e-01 -5.75440411e-03\n",
      "   6.35250833e-05]] [2938620.16376411]\n",
      "{5: 1.0, 25: 0.9568409042503454}\n"
     ]
    },
    {
     "data": {
      "image/png": "[encoded data removed]",
      "text/plain": [
       "<Figure size 432x288 with 1 Axes>"
      ]
     },
     "metadata": {
      "needs_background": "light"
     },
     "output_type": "display_data"
    }
   ],
   "source": [
    "pol16= PolynomialFeatures(degree = 16)\n",
    "x_25_16=pol16.fit_transform(x_25)\n",
    "lr_model.fit(x_25_16, y)\n",
    "print(lr_model.coef_,lr_model.intercept_)\n",
    "x_line = np.arange(0, 100, 0.1).reshape(-1, 1)\n",
    "x_line = pol16.fit_transform(x_line)\n",
    "y_line = lr_model.predict(x_line)\n",
    "plt.plot(x_line[:, 0], y_line, 'r--')\n",
    "plt.plot(x_25, y, 'bo')\n",
    "Score_pol16[25]=lr_model.score(x_25_16,y)\n",
    "print(Score_pol16)"
   ]
  },
  {
   "cell_type": "markdown",
   "metadata": {},
   "source": [
    "# linear regression for 100 random input and Polynomial power 1"
   ]
  },
  {
   "cell_type": "code",
   "execution_count": 30,
   "metadata": {},
   "outputs": [
    {
     "name": "stdout",
     "output_type": "stream",
     "text": [
      "[[1.6042603]]\n",
      "{5: 0.48843928921977553, 25: 0.7133697654020197, 100: 0.6663918732028115}\n"
     ]
    },
    {
     "data": {
      "image/png": "[encoded data removed]",
      "text/plain": [
       "<Figure size 432x288 with 1 Axes>"
      ]
     },
     "metadata": {
      "needs_background": "light"
     },
     "output_type": "display_data"
    }
   ],
   "source": [
    "\n",
    "y=(w*x_100)+b\n",
    "y = y + np.random.normal(scale=3, size=y.shape)\n",
    "plt.plot(x_100, y, 'bo', scalex=True, scaley=True)\n",
    "x_line =x_100\n",
    "y = y.reshape(-1, 1)\n",
    "lr_model = LinearRegression(normalize=True)\n",
    "lr_model.fit(x_100, y)\n",
    "print(lr_model.coef_)\n",
    "y_line = lr_model.predict(x_line)\n",
    "plt.plot(x_line, y_line, 'r-', scalex=True, scaley=True)\n",
    "Score_pol1[100]=lr_model.score(x_100,y)\n",
    "print(Score_pol1)"
   ]
  },
  {
   "cell_type": "markdown",
   "metadata": {},
   "source": [
    "# linear regression for 100 random input and Polynomial power 4"
   ]
  },
  {
   "cell_type": "code",
   "execution_count": 32,
   "metadata": {},
   "outputs": [
    {
     "name": "stdout",
     "output_type": "stream",
     "text": [
      "[[ 0.          1.14063806  0.03494159  0.01231443 -0.0012268 ]] [1.19887773]\n",
      "{5: 1.0, 25: 0.7434506771504721, 100: 0.6684448450685999}\n"
     ]
    },
    {
     "data": {
      "image/png": "[encoded data removed]",
      "text/plain": [
       "<Figure size 432x288 with 1 Axes>"
      ]
     },
     "metadata": {
      "needs_background": "light"
     },
     "output_type": "display_data"
    }
   ],
   "source": [
    "pol4= PolynomialFeatures(degree = 4)\n",
    "x_100_4=pol4.fit_transform(x_100)\n",
    "lr_model.fit(x_100_4, y)\n",
    "print(lr_model.coef_,lr_model.intercept_)\n",
    "x_line = np.arange(0, 100, 0.1).reshape(-1, 1)\n",
    "x_line = pol4.fit_transform(x_line)\n",
    "y_line = lr_model.predict(x_line)\n",
    "plt.plot(x_line[:, 0], y_line, 'r--')\n",
    "plt.plot(x_100, y, 'bo')\n",
    "Score_pol4[100]=lr_model.score(x_100_4,y)\n",
    "print(Score_pol4)"
   ]
  },
  {
   "cell_type": "markdown",
   "metadata": {},
   "source": [
    "# linear regression for 100 random input and Polynomial power  16"
   ]
  },
  {
   "cell_type": "code",
   "execution_count": 33,
   "metadata": {},
   "outputs": [
    {
     "name": "stdout",
     "output_type": "stream",
     "text": [
      "[[ 0.          1.14063806  0.03494159  0.01231443 -0.0012268 ]] [1.19887773]\n",
      "{5: 1.0, 25: 0.9568409042503454, 100: 0.6684448450685999}\n"
     ]
    },
    {
     "data": {
      "image/png": "[encoded data removed]",
      "text/plain": [
       "<Figure size 432x288 with 1 Axes>"
      ]
     },
     "metadata": {
      "needs_background": "light"
     },
     "output_type": "display_data"
    }
   ],
   "source": [
    "pol16= PolynomialFeatures(degree = 4)\n",
    "x_100_16=pol16.fit_transform(x_100)\n",
    "lr_model.fit(x_100_16, y)\n",
    "print(lr_model.coef_,lr_model.intercept_)\n",
    "x_line = np.arange(0, 100, 0.1).reshape(-1, 1)\n",
    "x_line = pol16.fit_transform(x_line)\n",
    "y_line = lr_model.predict(x_line)\n",
    "plt.plot(x_line[:, 0], y_line, 'r--')\n",
    "plt.plot(x_100, y, 'bo')\n",
    "Score_pol16[100]=lr_model.score(x_100_16,y)\n",
    "print(Score_pol16)"
   ]
  },
  {
   "cell_type": "markdown",
   "metadata": {},
   "source": [
    "# linear regression for 1000 random input and Polynomial power 1"
   ]
  },
  {
   "cell_type": "code",
   "execution_count": 35,
   "metadata": {},
   "outputs": [
    {
     "name": "stdout",
     "output_type": "stream",
     "text": [
      "[[1.64911315]]\n",
      "{5: 0.48843928921977553, 25: 0.7133697654020197, 100: 0.6663918732028115, 1000: 0.7029051181703294}\n"
     ]
    },
    {
     "data": {
      "image/png": "[encoded data removed]",
      "text/plain": [
       "<Figure size 432x288 with 1 Axes>"
      ]
     },
     "metadata": {
      "needs_background": "light"
     },
     "output_type": "display_data"
    }
   ],
   "source": [
    "y=(w*x_1000)+b\n",
    "y = y + np.random.normal(scale=3, size=y.shape)\n",
    "plt.plot(x_1000, y, 'bo', scalex=True, scaley=True)\n",
    "x_line =x_1000\n",
    "y = y.reshape(-1, 1)\n",
    "lr_model = LinearRegression(normalize=True)\n",
    "lr_model.fit(x_1000, y)\n",
    "print(lr_model.coef_)\n",
    "y_line = lr_model.predict(x_line)\n",
    "plt.plot(x_line, y_line, 'r-', scalex=True, scaley=True)\n",
    "Score_pol1[1000]=lr_model.score(x_1000,y)\n",
    "print(Score_pol1)"
   ]
  },
  {
   "cell_type": "markdown",
   "metadata": {},
   "source": [
    "# linear regression for 1000 random input and Polynomial power 4 "
   ]
  },
  {
   "cell_type": "code",
   "execution_count": 36,
   "metadata": {},
   "outputs": [
    {
     "name": "stdout",
     "output_type": "stream",
     "text": [
      "[[ 0.          2.83315699 -0.48361486  0.06915362 -0.00321982]] [0.47997986]\n",
      "{5: 1.0, 25: 0.7434506771504721, 100: 0.6684448450685999, 1000: 0.703964704187783}\n"
     ]
    },
    {
     "data": {
      "image/png": "[encoded data removed]",
      "text/plain": [
       "<Figure size 432x288 with 1 Axes>"
      ]
     },
     "metadata": {
      "needs_background": "light"
     },
     "output_type": "display_data"
    }
   ],
   "source": [
    "pol4= PolynomialFeatures(degree = 4)\n",
    "x_1000_4=pol4.fit_transform(x_1000)\n",
    "lr_model.fit(x_1000_4, y)\n",
    "print(lr_model.coef_,lr_model.intercept_)\n",
    "x_line = np.arange(0, 100, 0.1).reshape(-1, 1)\n",
    "x_line = pol4.fit_transform(x_line)\n",
    "y_line = lr_model.predict(x_line)\n",
    "plt.plot(x_line[:, 0], y_line, 'r--')\n",
    "plt.plot(x_1000, y, 'bo')\n",
    "Score_pol4[1000]=lr_model.score(x_1000_4,y)\n",
    "print(Score_pol4)"
   ]
  },
  {
   "cell_type": "markdown",
   "metadata": {},
   "source": [
    "# linear regression for 1000 random input and Polynomial power 16\n"
   ]
  },
  {
   "cell_type": "code",
   "execution_count": 37,
   "metadata": {},
   "outputs": [
    {
     "name": "stdout",
     "output_type": "stream",
     "text": [
      "[[ 0.          2.83315699 -0.48361486  0.06915362 -0.00321982]] [0.47997986]\n",
      "{5: 1.0, 25: 0.9568409042503454, 100: 0.6684448450685999, 1000: 0.703964704187783}\n"
     ]
    },
    {
     "data": {
      "image/png": "[encoded data removed]",
      "text/plain": [
       "<Figure size 432x288 with 1 Axes>"
      ]
     },
     "metadata": {
      "needs_background": "light"
     },
     "output_type": "display_data"
    }
   ],
   "source": [
    "pol16= PolynomialFeatures(degree = 4)\n",
    "x_1000_16=pol16.fit_transform(x_1000)\n",
    "lr_model.fit(x_1000_16, y)\n",
    "print(lr_model.coef_,lr_model.intercept_)\n",
    "x_line = np.arange(0, 100, 0.1).reshape(-1, 1)\n",
    "x_line = pol16.fit_transform(x_line)\n",
    "y_line = lr_model.predict(x_line)\n",
    "plt.plot(x_line[:, 0], y_line, 'r--')\n",
    "plt.plot(x_1000, y, 'bo')\n",
    "Score_pol16[1000]=lr_model.score(x_1000_16,y)\n",
    "print(Score_pol16)"
   ]
  },
  {
   "cell_type": "code",
   "execution_count": 72,
   "metadata": {},
   "outputs": [
    {
     "name": "stdout",
     "output_type": "stream",
     "text": [
      "[5, 25, 100, 1000]\n",
      "[5, 25, 100, 1000]\n"
     ]
    },
    {
     "name": "stderr",
     "output_type": "stream",
     "text": [
      "<ipython-input-72-9cbc2f634846>:12: MatplotlibDeprecationWarning: Adding an axes using the same arguments as a previous axes currently reuses the earlier instance.  In a future version, a new instance will always be created and returned.  Meanwhile, this warning can be suppressed, and the future behavior ensured, by passing a unique label to each axes instance.\n",
      "  plt.subplot(4,1,1)\n"
     ]
    },
    {
     "data": {
      "text/plain": [
       "Text(0, 0.5, 'Moldel Score')"
      ]
     },
     "execution_count": 72,
     "metadata": {},
     "output_type": "execute_result"
    },
    {
     "data": {
      "image/png": "[encoded data removed]",
      "text/plain": [
       "<Figure size 432x288 with 1 Axes>"
      ]
     },
     "metadata": {
      "needs_background": "light"
     },
     "output_type": "display_data"
    }
   ],
   "source": [
    "plt.subplot(4,1,1)\n",
    "# pol1_size=np.array()\n",
    "# pol1_size=[k for k,v in Score_pol1]\n",
    "\n",
    "size=[k for k in Score_pol1]\n",
    "print(size)\n",
    "value=[Score_pol1[k] for k in Score_pol1]\n",
    "plt.title(\"Linear\") \n",
    "plt.plot(size,value , 'ro')\n",
    "\n",
    "\n",
    "plt.subplot(4,1,1)\n",
    "# pol1_size=np.array()\n",
    "# pol1_size=[k for k,v in Score_pol1]\n",
    "\n",
    "size=[k for k in Score_pol4]\n",
    "print(size)\n",
    "value=[Score_pol4[k] for k in Score_pol4]\n",
    "plt.title(\"Polynomial power4\") \n",
    "plt.plot(size,value , 'bo')\n",
    "plt.xlabel('size')\n",
    "plt.ylabel('Moldel Score')\n",
    "\n"
   ]
  },
  {
   "cell_type": "code",
   "execution_count": 61,
   "metadata": {},
   "outputs": [
    {
     "ename": "TypeError",
     "evalue": "object of type 'AxesSubplot' has no len()",
     "output_type": "error",
     "traceback": [
      "\u001b[1;31m---------------------------------------------------------------------------\u001b[0m",
      "\u001b[1;31mTypeError\u001b[0m                                 Traceback (most recent call last)",
      "\u001b[1;32m<ipython-input-61-d16a73f33544>\u001b[0m in \u001b[0;36m<module>\u001b[1;34m\u001b[0m\n\u001b[0;32m      2\u001b[0m \u001b[0mi\u001b[0m\u001b[1;33m=\u001b[0m\u001b[1;36m0\u001b[0m\u001b[1;33m\u001b[0m\u001b[1;33m\u001b[0m\u001b[0m\n\u001b[0;32m      3\u001b[0m \u001b[1;32mfor\u001b[0m \u001b[0ma\u001b[0m \u001b[1;32min\u001b[0m \u001b[0mrange\u001b[0m\u001b[1;33m(\u001b[0m\u001b[0mlen\u001b[0m\u001b[1;33m(\u001b[0m\u001b[0max\u001b[0m\u001b[1;33m)\u001b[0m\u001b[1;33m)\u001b[0m\u001b[1;33m:\u001b[0m\u001b[1;33m\u001b[0m\u001b[1;33m\u001b[0m\u001b[0m\n\u001b[1;32m----> 4\u001b[1;33m     \u001b[1;32mfor\u001b[0m \u001b[0mb\u001b[0m \u001b[1;32min\u001b[0m \u001b[0mrange\u001b[0m\u001b[1;33m(\u001b[0m\u001b[0mlen\u001b[0m\u001b[1;33m(\u001b[0m\u001b[0max\u001b[0m\u001b[1;33m[\u001b[0m\u001b[0ma\u001b[0m\u001b[1;33m]\u001b[0m\u001b[1;33m)\u001b[0m\u001b[1;33m)\u001b[0m\u001b[1;33m:\u001b[0m\u001b[1;33m\u001b[0m\u001b[1;33m\u001b[0m\u001b[0m\n\u001b[0m\u001b[0;32m      5\u001b[0m         \u001b[0max\u001b[0m\u001b[1;33m[\u001b[0m\u001b[0ma\u001b[0m\u001b[1;33m,\u001b[0m \u001b[0mb\u001b[0m\u001b[1;33m]\u001b[0m\u001b[1;33m.\u001b[0m\u001b[0mplot\u001b[0m\u001b[1;33m(\u001b[0m\u001b[0mx\u001b[0m\u001b[1;33m,\u001b[0m \u001b[0my\u001b[0m\u001b[1;33m[\u001b[0m\u001b[0mi\u001b[0m\u001b[1;33m]\u001b[0m\u001b[1;33m)\u001b[0m\u001b[1;33m\u001b[0m\u001b[1;33m\u001b[0m\u001b[0m\n\u001b[0;32m      6\u001b[0m         \u001b[0msubplot_title\u001b[0m\u001b[1;33m=\u001b[0m\u001b[1;33m(\u001b[0m\u001b[1;34m\"Subplot\"\u001b[0m\u001b[1;33m+\u001b[0m\u001b[0mstr\u001b[0m\u001b[1;33m(\u001b[0m\u001b[0mi\u001b[0m\u001b[1;33m)\u001b[0m\u001b[1;33m)\u001b[0m\u001b[1;33m\u001b[0m\u001b[1;33m\u001b[0m\u001b[0m\n",
      "\u001b[1;31mTypeError\u001b[0m: object of type 'AxesSubplot' has no len()"
     ]
    },
    {
     "data": {
      "image/png": "[encoded data removed]",
      "text/plain": [
       "<Figure size 432x288 with 4 Axes>"
      ]
     },
     "metadata": {
      "needs_background": "light"
     },
     "output_type": "display_data"
    }
   ],
   "source": [
    "figure, ax = plt.subplots(4, 1)\n",
    "i=0\n",
    "for a in range(4): \n",
    "    for b in range(1):\n",
    "        ax[a, b].plot(x, y[i])\n",
    "        subplot_title=(\"Subplot\"+str(i))\n",
    "        ax[a,b].set_title(subplot_title)\n",
    "        i=i+1\n",
    "\n",
    "figure.tight_layout()\n",
    "plt.show()"
   ]
  },
  {
   "cell_type": "code",
   "execution_count": 64,
   "metadata": {},
   "outputs": [
    {
     "ename": "SyntaxError",
     "evalue": "EOL while scanning string literal (<ipython-input-64-ec954360d136>, line 2)",
     "output_type": "error",
     "traceback": [
      "\u001b[1;36m  File \u001b[1;32m\"<ipython-input-64-ec954360d136>\"\u001b[1;36m, line \u001b[1;32m2\u001b[0m\n\u001b[1;33m    ax[1,1].plot(size,value')\u001b[0m\n\u001b[1;37m                             ^\u001b[0m\n\u001b[1;31mSyntaxError\u001b[0m\u001b[1;31m:\u001b[0m EOL while scanning string literal\n"
     ]
    }
   ],
   "source": [
    "figure, ax = plt.subplots(4, 1)\n",
    "ax[1,1].plot(size,value')"
   ]
  },
  {
   "cell_type": "code",
   "execution_count": null,
   "metadata": {},
   "outputs": [],
   "source": []
  }
 ],
 "metadata": {
  "kernelspec": {
   "display_name": "Python 3",
   "language": "python",
   "name": "python3"
  },
  "language_info": {
   "codemirror_mode": {
    "name": "ipython",
    "version": 3
   },
   "file_extension": ".py",
   "mimetype": "text/x-python",
   "name": "python",
   "nbconvert_exporter": "python",
   "pygments_lexer": "ipython3",
   "version": "3.8.3"
  }
 },
 "nbformat": 4,
 "nbformat_minor": 4
}

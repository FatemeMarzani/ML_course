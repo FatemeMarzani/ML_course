{
 "cells": [
  {
   "cell_type": "code",
   "execution_count": 1,
   "metadata": {},
   "outputs": [],
   "source": [
    "import numpy as np\n",
    "from sklearn.linear_model import LinearRegression\n",
    "import matplotlib.pyplot as plt\n",
    "%matplotlib inline\n",
    "from sklearn.preprocessing import PolynomialFeatures \n"
   ]
  },
  {
   "cell_type": "code",
   "execution_count": 2,
   "metadata": {},
   "outputs": [],
   "source": [
    "x_5 = np.random.rand(5) * 10\n",
    "x_25 = np.random.rand(25) * 10\n",
    "x_100 = np.random.rand(100) * 10\n",
    "x_1000 = np.random.rand(1000) * 10\n",
    "x_5 =x_5.reshape(-1, 1)\n",
    "x_25 =x_25.reshape(-1, 1)\n",
    "x_100 =x_100.reshape(-1, 1)\n",
    "x_1000 =x_1000.reshape(-1, 1)"
   ]
  },
  {
   "cell_type": "markdown",
   "metadata": {},
   "source": [
    "# linear regression for 5 random input and Polynomial power 1\n"
   ]
  },
  {
   "cell_type": "code",
   "execution_count": 3,
   "metadata": {},
   "outputs": [
    {
     "name": "stdout",
     "output_type": "stream",
     "text": [
      "[0.97824672] [4.52420025]\n",
      "[[-0.02337294]] [7.27400399]\n"
     ]
    },
    {
     "data": {
      "text/plain": [
       "[<matplotlib.lines.Line2D at 0x1e924fe3cd0>]"
      ]
     },
     "execution_count": 3,
     "metadata": {},
     "output_type": "execute_result"
    },
    {
     "data": {
      "image/png": "[encoded data removed]",
      "text/plain": [
       "<Figure size 432x288 with 1 Axes>"
      ]
     },
     "metadata": {
      "needs_background": "light"
     },
     "output_type": "display_data"
    }
   ],
   "source": [
    "w=np.random.rand(1) * 10\n",
    "b=np.random.rand(1) * 10\n",
    "y=(w*x_5)+b\n",
    "print(w,b)\n",
    "y = y + np.random.normal(scale=3, size=y.shape)\n",
    "plt.plot(x_5, y, 'bo', scalex=True, scaley=True)\n",
    "x_line =x_5\n",
    "y = y.reshape(-1, 1)\n",
    "lr_model = LinearRegression(normalize=True)\n",
    "lr_model.fit(x_5, y)\n",
    "print(lr_model.coef_,lr_model.intercept_)\n",
    "y_line = lr_model.predict(x_line)\n",
    "plt.plot(x_line, y_line, 'r-', scalex=True, scaley=True)\n"
   ]
  },
  {
   "cell_type": "markdown",
   "metadata": {},
   "source": [
    "# linear regression for 5 random input and Polynomial power 4"
   ]
  },
  {
   "cell_type": "code",
   "execution_count": 4,
   "metadata": {
    "scrolled": true
   },
   "outputs": [
    {
     "name": "stdout",
     "output_type": "stream",
     "text": [
      "[[  0.          46.65373452 -33.6290851    8.01068129  -0.59643419]] [-11.73604541]\n"
     ]
    },
    {
     "data": {
      "text/plain": [
       "[<matplotlib.lines.Line2D at 0x1e925095df0>]"
      ]
     },
     "execution_count": 4,
     "metadata": {},
     "output_type": "execute_result"
    },
    {
     "data": {
      "image/png": "[encoded data removed]",
      "text/plain": [
       "<Figure size 432x288 with 1 Axes>"
      ]
     },
     "metadata": {
      "needs_background": "light"
     },
     "output_type": "display_data"
    }
   ],
   "source": [
    "x_5_4=np.hstack((x_5**0,x_5,x_5**2,x_5**3,x_5**4))\n",
    "lr_model.fit(x_5_4, y)\n",
    "print(lr_model.coef_,lr_model.intercept_)\n",
    "x_line = np.arange(0, 100, 0.1).reshape(-1, 1)\n",
    "x_line = np.hstack((x_line**0,x_line,x_line**2,x_line**3,x_line**4))\n",
    "y_line = lr_model.predict(x_line)\n",
    "plt.plot(x_line[:, 0], y_line, 'r--')\n",
    "plt.plot(x_5, y, 'bo')\n"
   ]
  },
  {
   "cell_type": "markdown",
   "metadata": {},
   "source": [
    "using PolynomialFeatures:"
   ]
  },
  {
   "cell_type": "code",
   "execution_count": 5,
   "metadata": {},
   "outputs": [
    {
     "name": "stdout",
     "output_type": "stream",
     "text": [
      "[[  0.          46.65373452 -33.6290851    8.01068129  -0.59643419]] [-11.73604541]\n"
     ]
    },
    {
     "data": {
      "text/plain": [
       "[<matplotlib.lines.Line2D at 0x1e9250f2eb0>]"
      ]
     },
     "execution_count": 5,
     "metadata": {},
     "output_type": "execute_result"
    },
    {
     "data": {
      "image/png": "[encoded data removed]",
      "text/plain": [
       "<Figure size 432x288 with 1 Axes>"
      ]
     },
     "metadata": {
      "needs_background": "light"
     },
     "output_type": "display_data"
    }
   ],
   "source": [
    "pol4= PolynomialFeatures(degree = 4)\n",
    "x_5_4=pol4.fit_transform(x_5)\n",
    "lr_model.fit(x_5_4, y)\n",
    "print(lr_model.coef_,lr_model.intercept_)\n",
    "x_line = np.arange(0, 100, 0.1).reshape(-1, 1)\n",
    "x_line = pol4.fit_transform(x_line)\n",
    "y_line = lr_model.predict(x_line)\n",
    "plt.plot(x_line[:, 0], y_line, 'r--')\n",
    "plt.plot(x_5, y, 'bo')\n",
    "\n",
    "\n",
    "\n"
   ]
  },
  {
   "cell_type": "markdown",
   "metadata": {},
   "source": [
    "# # linear regression for 5 random input and Polynomial power 16"
   ]
  },
  {
   "cell_type": "code",
   "execution_count": 6,
   "metadata": {},
   "outputs": [
    {
     "name": "stdout",
     "output_type": "stream",
     "text": [
      "[[-1.59872116e-13 -5.68400389e+00 -2.28460043e-01  4.07771076e-02\n",
      "   1.30103603e-02  2.30020984e-03  3.25406229e-04  3.97328604e-05\n",
      "   4.15182675e-06  3.26772938e-07  4.43222294e-09 -5.76877762e-09\n",
      "  -1.77178321e-09 -3.91779095e-10 -7.61647395e-11 -1.38214600e-11\n",
      "  -2.40383351e-12]] [15.37477499]\n"
     ]
    },
    {
     "data": {
      "text/plain": [
       "[<matplotlib.lines.Line2D at 0x1e925153dc0>]"
      ]
     },
     "execution_count": 6,
     "metadata": {},
     "output_type": "execute_result"
    },
    {
     "data": {
      "image/png": "[encoded data removed]",
      "text/plain": [
       "<Figure size 432x288 with 1 Axes>"
      ]
     },
     "metadata": {
      "needs_background": "light"
     },
     "output_type": "display_data"
    }
   ],
   "source": [
    "x_5_16=np.hstack((x_5**0,x_5,x_5**2,x_5**3,x_5**4,x_5**5,x_5**6,x_5**7,x_5**8,x_5**9,x_5**10,x_5**11,x_5**12,x_5**13,x_5**14,x_5**15,x_5**16))\n",
    "lr_model.fit(x_5_16, y)\n",
    "print(lr_model.coef_,lr_model.intercept_)\n",
    "x_line = np.arange(0, 100, 0.1).reshape(-1, 1)\n",
    "x_line = np.hstack((x_line**0,x_line,x_line**2,x_line**3,x_line**4,x_line**5,x_line**6,x_line**7,x_line**8,x_line**9,x_line**10,x_line**11,x_line**12,x_line**13,x_line**14,x_line**15,x_line**16))\n",
    "y_line = lr_model.predict(x_line)\n",
    "plt.plot(x_line[:, 0], y_line, 'r--')\n",
    "plt.plot(x_5, y, 'bo')"
   ]
  },
  {
   "cell_type": "markdown",
   "metadata": {},
   "source": [
    "# linear regression for 25 random input and Polynomial power 1"
   ]
  },
  {
   "cell_type": "code",
   "execution_count": 7,
   "metadata": {},
   "outputs": [
    {
     "name": "stdout",
     "output_type": "stream",
     "text": [
      "[[0.97917923]] [4.09320923]\n"
     ]
    },
    {
     "data": {
      "text/plain": [
       "[<matplotlib.lines.Line2D at 0x1e9250d0970>]"
      ]
     },
     "execution_count": 7,
     "metadata": {},
     "output_type": "execute_result"
    },
    {
     "data": {
      "image/png": "[encoded data removed]",
      "text/plain": [
       "<Figure size 432x288 with 1 Axes>"
      ]
     },
     "metadata": {
      "needs_background": "light"
     },
     "output_type": "display_data"
    }
   ],
   "source": [
    "y=(w*x_25)+b\n",
    "y = y + np.random.normal(scale=3, size=y.shape)\n",
    "plt.plot(x_25, y, 'bo', scalex=True, scaley=True)\n",
    "x_line =x_25\n",
    "y = y.reshape(-1, 1)\n",
    "lr_model = LinearRegression(normalize=True)\n",
    "lr_model.fit(x_25, y)\n",
    "print(lr_model.coef_,lr_model.intercept_)\n",
    "y_line = lr_model.predict(x_line)\n",
    "plt.plot(x_line, y_line, 'r-', scalex=True, scaley=True)"
   ]
  },
  {
   "cell_type": "markdown",
   "metadata": {},
   "source": [
    "# linear regression for 25 random input and Polynomial power  4"
   ]
  },
  {
   "cell_type": "code",
   "execution_count": 8,
   "metadata": {},
   "outputs": [
    {
     "name": "stdout",
     "output_type": "stream",
     "text": [
      "[[ 0.          3.39657883 -1.46062082  0.25415746 -0.01325406]] [3.77344525]\n"
     ]
    },
    {
     "data": {
      "text/plain": [
       "[<matplotlib.lines.Line2D at 0x1e9261bffa0>]"
      ]
     },
     "execution_count": 8,
     "metadata": {},
     "output_type": "execute_result"
    },
    {
     "data": {
      "image/png": "[encoded data removed]",
      "text/plain": [
       "<Figure size 432x288 with 1 Axes>"
      ]
     },
     "metadata": {
      "needs_background": "light"
     },
     "output_type": "display_data"
    }
   ],
   "source": [
    "pol4= PolynomialFeatures(degree = 4)\n",
    "x_25_4=pol4.fit_transform(x_25)\n",
    "lr_model.fit(x_25_4, y)\n",
    "print(lr_model.coef_,lr_model.intercept_)\n",
    "x_line = np.arange(0, 100, 0.1).reshape(-1, 1)\n",
    "x_line = pol4.fit_transform(x_line)\n",
    "y_line = lr_model.predict(x_line)\n",
    "plt.plot(x_line[:, 0], y_line, 'r--')\n",
    "plt.plot(x_25, y, 'bo')\n"
   ]
  },
  {
   "cell_type": "markdown",
   "metadata": {},
   "source": [
    "# linear regression for 25 random input and Polynomial power 16"
   ]
  },
  {
   "cell_type": "code",
   "execution_count": 9,
   "metadata": {
    "scrolled": true
   },
   "outputs": [
    {
     "name": "stdout",
     "output_type": "stream",
     "text": [
      "[[ 0.00000000e+00 -8.52974157e+02  4.50626370e+03 -1.13740174e+04\n",
      "   1.69629946e+04 -1.65173151e+04  1.11322511e+04 -5.38668336e+03\n",
      "   1.91417640e+03 -5.05753813e+02  9.97243096e+01 -1.46022786e+01\n",
      "   1.56377037e+00 -1.18859965e-01  6.06718308e-03 -1.86349910e-04\n",
      "   2.60094571e-06]] [39.25938327]\n"
     ]
    },
    {
     "data": {
      "text/plain": [
       "[<matplotlib.lines.Line2D at 0x1e926216cd0>]"
      ]
     },
     "execution_count": 9,
     "metadata": {},
     "output_type": "execute_result"
    },
    {
     "data": {
      "image/png": "[encoded data removed]",
      "text/plain": [
       "<Figure size 432x288 with 1 Axes>"
      ]
     },
     "metadata": {
      "needs_background": "light"
     },
     "output_type": "display_data"
    }
   ],
   "source": [
    "pol16= PolynomialFeatures(degree = 16)\n",
    "x_25_16=pol16.fit_transform(x_25)\n",
    "lr_model.fit(x_25_16, y)\n",
    "print(lr_model.coef_,lr_model.intercept_)\n",
    "x_line = np.arange(0, 100, 0.1).reshape(-1, 1)\n",
    "x_line = pol16.fit_transform(x_line)\n",
    "y_line = lr_model.predict(x_line)\n",
    "plt.plot(x_line[:, 0], y_line, 'r--')\n",
    "plt.plot(x_25, y, 'bo')"
   ]
  },
  {
   "cell_type": "markdown",
   "metadata": {},
   "source": [
    "# linear regression for 100 random input and Polynomial power 1"
   ]
  },
  {
   "cell_type": "code",
   "execution_count": 10,
   "metadata": {},
   "outputs": [
    {
     "name": "stdout",
     "output_type": "stream",
     "text": [
      "[[0.9836962]]\n"
     ]
    },
    {
     "data": {
      "text/plain": [
       "[<matplotlib.lines.Line2D at 0x1e92627b070>]"
      ]
     },
     "execution_count": 10,
     "metadata": {},
     "output_type": "execute_result"
    },
    {
     "data": {
      "image/png": "[encoded data removed]",
      "text/plain": [
       "<Figure size 432x288 with 1 Axes>"
      ]
     },
     "metadata": {
      "needs_background": "light"
     },
     "output_type": "display_data"
    }
   ],
   "source": [
    "\n",
    "y=(w*x_100)+b\n",
    "y = y + np.random.normal(scale=3, size=y.shape)\n",
    "plt.plot(x_100, y, 'bo', scalex=True, scaley=True)\n",
    "x_line =x_100\n",
    "y = y.reshape(-1, 1)\n",
    "lr_model = LinearRegression(normalize=True)\n",
    "lr_model.fit(x_100, y)\n",
    "print(lr_model.coef_)\n",
    "y_line = lr_model.predict(x_line)\n",
    "plt.plot(x_line, y_line, 'r-', scalex=True, scaley=True)"
   ]
  },
  {
   "cell_type": "markdown",
   "metadata": {},
   "source": [
    "# linear regression for 100 random input and Polynomial power 4"
   ]
  },
  {
   "cell_type": "code",
   "execution_count": 11,
   "metadata": {},
   "outputs": [
    {
     "name": "stdout",
     "output_type": "stream",
     "text": [
      "[[ 0.          0.29563875  0.61292833 -0.11682734  0.0063136 ]] [4.31691126]\n"
     ]
    },
    {
     "data": {
      "text/plain": [
       "[<matplotlib.lines.Line2D at 0x1e9262d2520>]"
      ]
     },
     "execution_count": 11,
     "metadata": {},
     "output_type": "execute_result"
    },
    {
     "data": {
      "image/png": "[encoded data removed]",
      "text/plain": [
       "<Figure size 432x288 with 1 Axes>"
      ]
     },
     "metadata": {
      "needs_background": "light"
     },
     "output_type": "display_data"
    }
   ],
   "source": [
    "pol4= PolynomialFeatures(degree = 4)\n",
    "x_100_4=pol4.fit_transform(x_100)\n",
    "lr_model.fit(x_100_4, y)\n",
    "print(lr_model.coef_,lr_model.intercept_)\n",
    "x_line = np.arange(0, 100, 0.1).reshape(-1, 1)\n",
    "x_line = pol4.fit_transform(x_line)\n",
    "y_line = lr_model.predict(x_line)\n",
    "plt.plot(x_line[:, 0], y_line, 'r--')\n",
    "plt.plot(x_100, y, 'bo')"
   ]
  },
  {
   "cell_type": "markdown",
   "metadata": {},
   "source": [
    "# linear regression for 100 random input and Polynomial power  16"
   ]
  },
  {
   "cell_type": "code",
   "execution_count": 12,
   "metadata": {},
   "outputs": [
    {
     "name": "stdout",
     "output_type": "stream",
     "text": [
      "[[ 0.          0.29563875  0.61292833 -0.11682734  0.0063136 ]] [4.31691126]\n"
     ]
    },
    {
     "data": {
      "text/plain": [
       "[<matplotlib.lines.Line2D at 0x1e92632d130>]"
      ]
     },
     "execution_count": 12,
     "metadata": {},
     "output_type": "execute_result"
    },
    {
     "data": {
      "image/png": "[encoded data removed]",
      "text/plain": [
       "<Figure size 432x288 with 1 Axes>"
      ]
     },
     "metadata": {
      "needs_background": "light"
     },
     "output_type": "display_data"
    }
   ],
   "source": [
    "pol16= PolynomialFeatures(degree = 4)\n",
    "x_100_16=pol16.fit_transform(x_100)\n",
    "lr_model.fit(x_100_16, y)\n",
    "print(lr_model.coef_,lr_model.intercept_)\n",
    "x_line = np.arange(0, 100, 0.1).reshape(-1, 1)\n",
    "x_line = pol16.fit_transform(x_line)\n",
    "y_line = lr_model.predict(x_line)\n",
    "plt.plot(x_line[:, 0], y_line, 'r--')\n",
    "plt.plot(x_100, y, 'bo')"
   ]
  },
  {
   "cell_type": "markdown",
   "metadata": {},
   "source": [
    "# linear regression for 1000 random input and Polynomial power 1"
   ]
  },
  {
   "cell_type": "code",
   "execution_count": 13,
   "metadata": {},
   "outputs": [
    {
     "name": "stdout",
     "output_type": "stream",
     "text": [
      "[[1.02826452]]\n"
     ]
    },
    {
     "data": {
      "text/plain": [
       "[<matplotlib.lines.Line2D at 0x1e926377ee0>]"
      ]
     },
     "execution_count": 13,
     "metadata": {},
     "output_type": "execute_result"
    },
    {
     "data": {
      "image/png": "[encoded data removed]",
      "text/plain": [
       "<Figure size 432x288 with 1 Axes>"
      ]
     },
     "metadata": {
      "needs_background": "light"
     },
     "output_type": "display_data"
    }
   ],
   "source": [
    "y=(w*x_1000)+b\n",
    "y = y + np.random.normal(scale=3, size=y.shape)\n",
    "plt.plot(x_1000, y, 'bo', scalex=True, scaley=True)\n",
    "x_line =x_1000\n",
    "y = y.reshape(-1, 1)\n",
    "lr_model = LinearRegression(normalize=True)\n",
    "lr_model.fit(x_1000, y)\n",
    "print(lr_model.coef_)\n",
    "y_line = lr_model.predict(x_line)\n",
    "plt.plot(x_line, y_line, 'r-', scalex=True, scaley=True)"
   ]
  },
  {
   "cell_type": "markdown",
   "metadata": {},
   "source": [
    "# linear regression for 1000 random input and Polynomial power 4 "
   ]
  },
  {
   "cell_type": "code",
   "execution_count": 14,
   "metadata": {},
   "outputs": [
    {
     "name": "stdout",
     "output_type": "stream",
     "text": [
      "[[ 0.00000000e+00  1.43493456e+00 -1.13927013e-01  1.13732273e-02\n",
      "  -3.62898001e-04]] [3.76767132]\n"
     ]
    },
    {
     "data": {
      "text/plain": [
       "[<matplotlib.lines.Line2D at 0x1e9263d53a0>]"
      ]
     },
     "execution_count": 14,
     "metadata": {},
     "output_type": "execute_result"
    },
    {
     "data": {
      "image/png": "[encoded data removed]",
      "text/plain": [
       "<Figure size 432x288 with 1 Axes>"
      ]
     },
     "metadata": {
      "needs_background": "light"
     },
     "output_type": "display_data"
    }
   ],
   "source": [
    "pol4= PolynomialFeatures(degree = 4)\n",
    "x_1000_4=pol4.fit_transform(x_1000)\n",
    "lr_model.fit(x_1000_4, y)\n",
    "print(lr_model.coef_,lr_model.intercept_)\n",
    "x_line = np.arange(0, 100, 0.1).reshape(-1, 1)\n",
    "x_line = pol4.fit_transform(x_line)\n",
    "y_line = lr_model.predict(x_line)\n",
    "plt.plot(x_line[:, 0], y_line, 'r--')\n",
    "plt.plot(x_1000, y, 'bo')"
   ]
  },
  {
   "cell_type": "markdown",
   "metadata": {},
   "source": [
    "# linear regression for 1000 random input and Polynomial power 16\n"
   ]
  },
  {
   "cell_type": "code",
   "execution_count": 15,
   "metadata": {},
   "outputs": [
    {
     "name": "stdout",
     "output_type": "stream",
     "text": [
      "[[ 0.00000000e+00  1.43493456e+00 -1.13927013e-01  1.13732273e-02\n",
      "  -3.62898001e-04]] [3.76767132]\n"
     ]
    },
    {
     "data": {
      "text/plain": [
       "[<matplotlib.lines.Line2D at 0x1e926421fa0>]"
      ]
     },
     "execution_count": 15,
     "metadata": {},
     "output_type": "execute_result"
    },
    {
     "data": {
      "image/png": "[encoded data removed]",
      "text/plain": [
       "<Figure size 432x288 with 1 Axes>"
      ]
     },
     "metadata": {
      "needs_background": "light"
     },
     "output_type": "display_data"
    }
   ],
   "source": [
    "pol16= PolynomialFeatures(degree = 4)\n",
    "x_1000_16=pol16.fit_transform(x_1000)\n",
    "lr_model.fit(x_1000_16, y)\n",
    "print(lr_model.coef_,lr_model.intercept_)\n",
    "x_line = np.arange(0, 100, 0.1).reshape(-1, 1)\n",
    "x_line = pol16.fit_transform(x_line)\n",
    "y_line = lr_model.predict(x_line)\n",
    "plt.plot(x_line[:, 0], y_line, 'r--')\n",
    "plt.plot(x_1000, y, 'bo')"
   ]
  },
  {
   "cell_type": "code",
   "execution_count": null,
   "metadata": {},
   "outputs": [],
   "source": []
  }
 ],
 "metadata": {
  "kernelspec": {
   "display_name": "Python 3",
   "language": "python",
   "name": "python3"
  },
  "language_info": {
   "codemirror_mode": {
    "name": "ipython",
    "version": 3
   },
   "file_extension": ".py",
   "mimetype": "text/x-python",
   "name": "python",
   "nbconvert_exporter": "python",
   "pygments_lexer": "ipython3",
   "version": "3.8.3"
  }
 },
 "nbformat": 4,
 "nbformat_minor": 4
}
